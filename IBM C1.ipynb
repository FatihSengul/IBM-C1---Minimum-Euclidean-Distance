{
 "cells": [
  {
   "cell_type": "code",
   "id": "initial_id",
   "metadata": {
    "collapsed": true,
    "ExecuteTime": {
     "end_time": "2024-05-07T10:33:37.559465Z",
     "start_time": "2024-05-07T10:33:37.531560Z"
    }
   },
   "source": [
    "def euclideanDistance(point1, point2):\n",
    "    return ((point2[0] - point1[0])**2 + (point2[1] - point1[1])**2)**0.5\n"
   ],
   "outputs": [],
   "execution_count": 1
  },
  {
   "metadata": {
    "ExecuteTime": {
     "end_time": "2024-05-07T10:33:39.350910Z",
     "start_time": "2024-05-07T10:33:39.345656Z"
    }
   },
   "cell_type": "code",
   "source": "points = [(1, 2), (3, 5), (6, 1), (7, 7), (4, 3)]\n",
   "id": "dad569df8534921f",
   "outputs": [],
   "execution_count": 2
  },
  {
   "metadata": {
    "ExecuteTime": {
     "end_time": "2024-05-07T10:33:46.750768Z",
     "start_time": "2024-05-07T10:33:46.746640Z"
    }
   },
   "cell_type": "code",
   "source": [
    "distances = []\n",
    "for i in range(len(points)):\n",
    "    for j in range(i + 1, len(points)):\n",
    "        dist = euclideanDistance(points[i], points[j])\n",
    "        distances.append(dist)\n"
   ],
   "id": "534f915531896256",
   "outputs": [],
   "execution_count": 3
  },
  {
   "metadata": {
    "ExecuteTime": {
     "end_time": "2024-05-07T10:33:51.353105Z",
     "start_time": "2024-05-07T10:33:51.350104Z"
    }
   },
   "cell_type": "code",
   "source": "min_distance = min(distances)\n",
   "id": "e268f3f66fd2c39c",
   "outputs": [],
   "execution_count": 4
  },
  {
   "metadata": {
    "ExecuteTime": {
     "end_time": "2024-05-07T10:35:55.355006Z",
     "start_time": "2024-05-07T10:35:55.343991Z"
    }
   },
   "cell_type": "code",
   "source": [
    "# Test cases for the Euclidean distance calculation\n",
    "\n",
    "# Define test points\n",
    "test_points = [\n",
    "    ((0, 0), (3, 4)),  # Distance should be 5 (3-2-1 triangle)\n",
    "    ((-1, -1), (1, 1)), # Distance should be 2.828 (sqrt(8))\n",
    "    ((2, 2), (2, 2)),  # Distance should be 0 (same point)\n",
    "    ((5, 4), (3, 1))   # Distance should be 3.605 (Pitagoras theorem)\n",
    "]\n",
    "\n",
    "# Calculate and print the Euclidean distance for each pair of test points\n",
    "test_results = []\n",
    "for point1, point2 in test_points:\n",
    "    distance = euclideanDistance(point1, point2)\n",
    "    test_results.append((point1, point2, distance))\n",
    "\n",
    "test_results\n"
   ],
   "id": "654402d84e49840",
   "outputs": [
    {
     "data": {
      "text/plain": [
       "[((0, 0), (3, 4), 5.0),\n",
       " ((-1, -1), (1, 1), 2.8284271247461903),\n",
       " ((2, 2), (2, 2), 0.0),\n",
       " ((5, 4), (3, 1), 3.605551275463989)]"
      ]
     },
     "execution_count": 5,
     "metadata": {},
     "output_type": "execute_result"
    }
   ],
   "execution_count": 5
  },
  {
   "metadata": {},
   "cell_type": "code",
   "outputs": [],
   "execution_count": null,
   "source": "",
   "id": "c5c32f87a63dae5b"
  }
 ],
 "metadata": {
  "kernelspec": {
   "display_name": "Python 3",
   "language": "python",
   "name": "python3"
  },
  "language_info": {
   "codemirror_mode": {
    "name": "ipython",
    "version": 2
   },
   "file_extension": ".py",
   "mimetype": "text/x-python",
   "name": "python",
   "nbconvert_exporter": "python",
   "pygments_lexer": "ipython2",
   "version": "2.7.6"
  }
 },
 "nbformat": 4,
 "nbformat_minor": 5
}
